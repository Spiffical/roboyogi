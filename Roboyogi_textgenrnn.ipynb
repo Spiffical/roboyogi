{
  "nbformat": 4,
  "nbformat_minor": 0,
  "metadata": {
    "colab": {
      "name": "Roboyogi - textgenrnn",
      "version": "0.3.2",
      "provenance": [],
      "collapsed_sections": [],
      "toc_visible": true
    },
    "kernelspec": {
      "name": "python3",
      "display_name": "Python 3"
    },
    "accelerator": "GPU"
  },
  "cells": [
    {
      "metadata": {
        "id": "H7LoMj4GA4n_",
        "colab_type": "text"
      },
      "cell_type": "markdown",
      "source": [
        "# ![Imgur](https://i.imgur.com/LqgoIet.png)  Roboyogi: the world's first robot yoga teacher \n",
        "\n",
        "\n",
        "\n",
        "Using *textgenrnn*\\* to train a machine to produce yoga routines\n",
        "\n",
        "\\*https://github.com/minimaxir/textgenrnn\n"
      ]
    },
    {
      "metadata": {
        "id": "jdQ_fHs2YZ1F",
        "colab_type": "text"
      },
      "cell_type": "markdown",
      "source": [
        "\n",
        "\n",
        "---\n",
        "\n"
      ]
    },
    {
      "metadata": {
        "id": "rCCAp9RT-CQc",
        "colab_type": "text"
      },
      "cell_type": "markdown",
      "source": [
        "## Introduction"
      ]
    },
    {
      "metadata": {
        "id": "Z0pMjLSN-Cda",
        "colab_type": "text"
      },
      "cell_type": "markdown",
      "source": [
        "I work with neural networks in my masters research to predict properties of stars, so I wanted to work on a project related to this but which could teach me about modern neural network architectures and methods I haven't yet used. Through becoming familiar with other architectures, it might allow me more creative insight when tackling problems in my research. Instead of sticking to the pure science route for this project, however, I wanted to choose a project that I could have a little fun with, one which was perhaps leaning more towards art than science. I thought that a project in the field of natural language processing (NLP) would suit these goals well. \n",
        "\n",
        "Two domains humans are particularly proficient in are image analysis and language analysis. Neural networks have in large part solved the image domain but there’s still a lot of work to be done with language. Nevertheless, there have been some impressive results publushed, like the now famous article [The Unreasonable Effectiveness of Recurrent Neural Networks](http://karpathy.github.io/2015/05/21/rnn-effectiveness/) in which it was shown how a recurrent neural network (RNN) could produce novel texts ranging from Shakespeare to the Linux Kernel. Neural networks being used in NLP (and more generally data which has structure in time) has fascinated me since I read that article and so I wanted to get my hands dirty with some of the modern methods used for this.\n",
        "\n",
        "The project I decided to work on involving these elements was using an RNN to produce text in the form of yoga routines. Why yoga? Well, the ancient Indian practice of yoga has in large part been completely warped and modified by our modern culture, often resulting in today’s average practitioner oblivious to and separated from its meditative and spiritual roots. To take this separation a step further and complete the transition of yoga entering our digital world, I wanted to create the world’s first robot yoga instructor. "
      ]
    },
    {
      "metadata": {
        "id": "q3iLFk98ZABY",
        "colab_type": "text"
      },
      "cell_type": "markdown",
      "source": [
        "## Recurrent Neural Networks"
      ]
    },
    {
      "metadata": {
        "id": "f4aKANj7ZDuv",
        "colab_type": "text"
      },
      "cell_type": "markdown",
      "source": [
        "RNNs are a unique type of NN that take an input vector (e.g a word) and a hidden state (which only the NN sees) and produces a new hidden state. This new hidden state retains information, i.e. has memory, of the last input vector, such that when a new input vector is sent through the NN, its output depends on the previous input vector. Chaining this process together means that words can be sequentially  sent through the NN, each time producing a new hidden state which contains information about the previous words in the sentence. The output prediction of the RNN is thus dependent on information from all previous hidden states:"
      ]
    },
    {
      "metadata": {
        "id": "CAKKVe0jYeU5",
        "colab_type": "text"
      },
      "cell_type": "markdown",
      "source": [
        "![Imgur](https://i.imgur.com/gWbgaLd.png)"
      ]
    },
    {
      "metadata": {
        "id": "2hlVxGS9a0FB",
        "colab_type": "text"
      },
      "cell_type": "markdown",
      "source": [
        "There is a problem with this \"vanilla\" RNN architecture: the hidden state remains fixed in size regardless of how many words are used as input to the system. For this to occur, there must be some loss of information. If the input sequence is long, and the output relies heavily on the first word, it might be difficult for the important information to travel through to the last hidden state.\n",
        "\n",
        "To fix this issue, modern RNN architectures incorporate ***attention***. The output of the RNN no longer depends on only the last hidden state: rather, it considers a weighted sum of all previous hidden states. Throughout training, therefore, the RNN learns to pay attention to particular hidden states, those containing more potent information. In the case of a sentence, this translates to the RNN focusing on important words, leading to more coherent sentences and a better understanding of the structure of language.  "
      ]
    },
    {
      "metadata": {
        "id": "Cd_tBWgIYejR",
        "colab_type": "text"
      },
      "cell_type": "markdown",
      "source": [
        "![Imgur](https://i.imgur.com/m67PI5J.png)"
      ]
    },
    {
      "metadata": {
        "id": "EqnIK8OsYeb0",
        "colab_type": "text"
      },
      "cell_type": "markdown",
      "source": [
        "Above: RNN with attention\n",
        "\n",
        "When applied to generating text, the output of an RNN is an array of words, each with an associated probability indicating how likely it is to be the next word in the sentence. Throughout training, we can penalize the network when it predicts a high probability for a word which almost never follows the previous analyzed words. The loss function required for this task is the ***categorical cross entropy*** which is similar to the binary cross entropy loss function but allows for multiple output nodes.\n",
        "\n",
        "Once the RNN is trained, we can provide it with a list of words in a sentence and it will output a list containing a *probability distribution* indicating how likely each word in its vocabulary is the next word. In practice the top 3-5 words are used and *randomly sampled*. This random sampling helps ensure diverse outputs, leading to more creative outputs. Due to its random nature, sometimes this sampling technique can result in nonsensical output. This is fixed by increasing the probability of the most probable words, and decreasing the probability of the least probable words. This tweaking of probabilities is parameterized by something called the ***temperature***, where a temperature of 0 leads to only the most probable words being used (and therefore uncreative output) and a temperature of 1.0 leading to more random output. Typically a value for temperature somewhere in between is chosen to achieve a balance between coherent sentences and creativity.\n",
        "\n",
        "Armed with our RNN architecture, we require a dataset to train it with.\n",
        "\n",
        "\n",
        "\n",
        "---\n",
        "\n"
      ]
    },
    {
      "metadata": {
        "id": "og_zGq8hArD-",
        "colab_type": "text"
      },
      "cell_type": "markdown",
      "source": [
        "## Data collection\n"
      ]
    },
    {
      "metadata": {
        "id": "_YVOunJkT-po",
        "colab_type": "text"
      },
      "cell_type": "markdown",
      "source": [
        "**For the Python scripts referenced here, please see** https://github.com/Spiffical/roboyogi"
      ]
    },
    {
      "metadata": {
        "id": "QW4TnKB4Wu0B",
        "colab_type": "text"
      },
      "cell_type": "markdown",
      "source": [
        "![yoooooooo](https://www.gstatic.com/images/icons/material/product/2x/youtube_64dp.png)"
      ]
    },
    {
      "metadata": {
        "id": "36hVDXOYVnKS",
        "colab_type": "text"
      },
      "cell_type": "markdown",
      "source": [
        "There are many websites that provide yoga videos, but for this project I chose to use Youtube for a few important reasons: \n",
        "\n",
        "*  There are many *thousands* of free yoga routines\n",
        "*  The videos come with transcribed audio\n",
        "*  Youtube provides a simple Python-based API to automate the process of collecting video information\n",
        "\n",
        "\n"
      ]
    },
    {
      "metadata": {
        "id": "qICD7nTiUeDx",
        "colab_type": "text"
      },
      "cell_type": "markdown",
      "source": [
        "The process of creating a training dataset of yoga video captions for textgenrnn is as follows:"
      ]
    },
    {
      "metadata": {
        "id": "lkusbIGrYojd",
        "colab_type": "text"
      },
      "cell_type": "markdown",
      "source": [
        "### 1. Searching Youtube for appropriate videos"
      ]
    },
    {
      "metadata": {
        "id": "64SY_9oXYxsd",
        "colab_type": "text"
      },
      "cell_type": "markdown",
      "source": [
        "Using the Youtube API, I wrote the script [search_yt_vids.py](https://github.com/Spiffical/roboyogi/blob/master/search_yt_vids.py) which takes as input a few search parameters such as length of video, words in the title, and how many search results should be returned. The output of the script is a text file (in JSON format for readability) containing video metadata. The following is an example output:"
      ]
    },
    {
      "metadata": {
        "id": "Dkr1VtT3Cbnl",
        "colab_type": "text"
      },
      "cell_type": "markdown",
      "source": [
        "```\n",
        "[\n",
        "    {\n",
        "        \"title\": \"Total Body Yoga - Deep Stretch | Yoga With Adriene\",\n",
        "        \"id\": \"GLy2rYHwUqY\",\n",
        "        \"channelId\": \"UCFKE7WVJfvaHW5q283SxchA\",\n",
        "        \"channelTitle\": \"Yoga With Adriene\"\n",
        "    },\n",
        "    {\n",
        "        \"title\": \"Dedicate - Day 1 - Discern  |  Yoga With Adriene\",\n",
        "        \"id\": \"IHkpIh7nj3M\",\n",
        "        \"channelId\": \"UCFKE7WVJfvaHW5q283SxchA\",\n",
        "        \"channelTitle\": \"Yoga With Adriene\"\n",
        "    }\n",
        "]\n",
        "```\n",
        "\n"
      ]
    },
    {
      "metadata": {
        "id": "fw4hvlqnCbsN",
        "colab_type": "text"
      },
      "cell_type": "markdown",
      "source": [
        "This file can be examined and entries which are obviously not yoga related can be easily pruned by hand. "
      ]
    },
    {
      "metadata": {
        "id": "VP6niP9JCbjS",
        "colab_type": "text"
      },
      "cell_type": "markdown",
      "source": [
        "### 2. Collecting captions of the Youtube videos"
      ]
    },
    {
      "metadata": {
        "id": "bqFzCamoCbY8",
        "colab_type": "text"
      },
      "cell_type": "markdown",
      "source": [
        "The website http://www.diycaptions.com provides an excellent web-based interface for collecting captions of Youtube videos given their video IDs. This works well if you have only a handful of videos, but is quite limiting if, like in my case, you require captions for hundreds of videos.\n",
        "\n",
        "By utilizing [Beautiful Soup](https://www.crummy.com/software/BeautifulSoup/bs4/doc/)  (a Python package used for parsing HTML) I wrote the script [get_yt_captions.py](https://github.com/Spiffical/roboyogi/blob/master/get_yt_captions.py) which interfaces with diycaptions.com and, given the text file produced in the previous step, automates the collection of the ***human-generated*** captions from the videos. I emphasize the human-generated part because Youtube also provides automated captions, but these lack punctuation and are far from perfect (because they are produced by a neural network and as we shall see, neural networks are not yet as good at humans at understanding language). The output of the script is a csv file containing captions and metadata for the captions of every video. \n",
        "\n",
        "By analyzing the metadata of the captions, the dataset can be further pruned by, for example, looking at the number of characters in the caption (there are videos found in the previous step which are >30 minutes in length but contain very few words, likely not videos with a yoga routine). \n",
        "\n",
        "**NOTE**: the script sometimes needs to be executed multiple times because retrieving information from diycaptions.com fails for various reasons, despite my best efforts at debugging this. "
      ]
    },
    {
      "metadata": {
        "id": "KDkVBvLv3Htd",
        "colab_type": "text"
      },
      "cell_type": "markdown",
      "source": [
        "### 3. Generating the training dataset"
      ]
    },
    {
      "metadata": {
        "id": "W-NAO48t3IUt",
        "colab_type": "text"
      },
      "cell_type": "markdown",
      "source": [
        "The final step is to produce a text file where each line contains the caption of a video from the pruned list, a format which *textgenrnn* can use. I wrote a simple script [generate_trainingset.py](https://github.com/Spiffical/roboyogi/blob/master/generate_trainingset.py) which takes the csv file from the previous step and performs this task."
      ]
    },
    {
      "metadata": {
        "id": "_rpefO5x8jxZ",
        "colab_type": "text"
      },
      "cell_type": "markdown",
      "source": [
        "The end result of this data collection was the human-generated captions for **625 yoga videos**, a corpus of text **10MB** in size (which is decently large for a task like this). We can now train a model on this dataset!\n"
      ]
    },
    {
      "metadata": {
        "id": "qX70zsiL3HmC",
        "colab_type": "text"
      },
      "cell_type": "markdown",
      "source": [
        "\n",
        "\n",
        "---\n",
        "\n"
      ]
    },
    {
      "metadata": {
        "id": "t1uaA7dj8DOC",
        "colab_type": "text"
      },
      "cell_type": "markdown",
      "source": [
        "## Training the RNN model"
      ]
    },
    {
      "metadata": {
        "id": "mXg3aueK8DSS",
        "colab_type": "text"
      },
      "cell_type": "markdown",
      "source": [
        "Import textgenrnn and other needed packages"
      ]
    },
    {
      "metadata": {
        "id": "KBkpRgBCBS2_",
        "colab_type": "code",
        "outputId": "3b104d9c-6edf-49a8-ca5d-3d3001d17cbd",
        "colab": {
          "base_uri": "https://localhost:8080/",
          "height": 106
        }
      },
      "cell_type": "code",
      "source": [
        "!pip install -q textgenrnn\n",
        "from google.colab import files\n",
        "from textgenrnn import textgenrnn\n",
        "from datetime import datetime\n",
        "import os"
      ],
      "execution_count": 1,
      "outputs": [
        {
          "output_type": "stream",
          "text": [
            "Using TensorFlow backend.\n"
          ],
          "name": "stderr"
        },
        {
          "output_type": "stream",
          "text": [
            "WARNING:tensorflow:From /usr/local/lib/python3.6/dist-packages/tensorflow/python/framework/op_def_library.py:263: colocate_with (from tensorflow.python.framework.ops) is deprecated and will be removed in a future version.\n",
            "Instructions for updating:\n",
            "Colocations handled automatically by placer.\n"
          ],
          "name": "stdout"
        }
      ]
    },
    {
      "metadata": {
        "id": "bpuoTm3yfGha",
        "colab_type": "text"
      },
      "cell_type": "markdown",
      "source": [
        "#### Mount Google Drive directory where training text file is stored, and where checkpointed model will be saved (and not erased when the runtime on Colab disconnects!)"
      ]
    },
    {
      "metadata": {
        "id": "gdrTY7IzSmda",
        "colab_type": "code",
        "outputId": "1226d00f-8ef4-4dea-b459-9c0a2c5cc908",
        "colab": {
          "base_uri": "https://localhost:8080/",
          "height": 124
        }
      },
      "cell_type": "code",
      "source": [
        "from google.colab import drive\n",
        "drive.mount('/content/gdrive', force_remount=True)"
      ],
      "execution_count": 2,
      "outputs": [
        {
          "output_type": "stream",
          "text": [
            "Go to this URL in a browser: https://accounts.google.com/o/oauth2/auth?client_id=947318989803-6bn6qk8qdgf4n4g3pfee6491hc0brc4i.apps.googleusercontent.com&redirect_uri=urn%3Aietf%3Awg%3Aoauth%3A2.0%3Aoob&scope=email%20https%3A%2F%2Fwww.googleapis.com%2Fauth%2Fdocs.test%20https%3A%2F%2Fwww.googleapis.com%2Fauth%2Fdrive%20https%3A%2F%2Fwww.googleapis.com%2Fauth%2Fdrive.photos.readonly%20https%3A%2F%2Fwww.googleapis.com%2Fauth%2Fpeopleapi.readonly&response_type=code\n",
            "\n",
            "Enter your authorization code:\n",
            "··········\n",
            "Mounted at /content/gdrive\n"
          ],
          "name": "stdout"
        }
      ]
    },
    {
      "metadata": {
        "id": "OO8OID_8vrp5",
        "colab_type": "code",
        "colab": {}
      },
      "cell_type": "code",
      "source": [
        "google_drive_dir = F\"/content/gdrive/My Drive/UVic/ASTR511-computing/roboyogi/\""
      ],
      "execution_count": 0,
      "outputs": []
    },
    {
      "metadata": {
        "id": "L-ygFzmUsHMS",
        "colab_type": "text"
      },
      "cell_type": "markdown",
      "source": [
        "Define path to the text file containing all the yoga video captions"
      ]
    },
    {
      "metadata": {
        "id": "mg6VZA2LHBIU",
        "colab_type": "code",
        "colab": {}
      },
      "cell_type": "code",
      "source": [
        "text_file_name = \"all_captions.txt\"\n",
        "text_file_path = google_drive_dir + text_file_name"
      ],
      "execution_count": 0,
      "outputs": []
    },
    {
      "metadata": {
        "id": "3Gro7y08i9q1",
        "colab_type": "text"
      },
      "cell_type": "markdown",
      "source": [
        "#### Define the base network dictionaries"
      ]
    },
    {
      "metadata": {
        "id": "P8wSlgXoDPCR",
        "colab_type": "code",
        "colab": {}
      },
      "cell_type": "code",
      "source": [
        "model_cfg = {\n",
        "    'word_level': True,         # set to True for training a word level model\n",
        "    'rnn_size': None,           # number of LSTM cells of each layer\n",
        "    'rnn_layers': None,         # number of LSTM layers\n",
        "    'rnn_bidirectional': True,  # consider text both forwards and backward\n",
        "    'max_length': None,         # number of words to consider before predicting the next\n",
        "    'max_words': None,          # maximum number of words to model; the rest will be ignored\n",
        "}\n",
        "\n",
        "train_cfg = {\n",
        "    'line_delimited': True,     # set to True if each text has its own line in the source file\n",
        "    'save_epochs': 5,           # save model after every multiple of given number\n",
        "    'num_epochs': 5,            # number of epochs to train for\n",
        "    'gen_epochs': 5,            # generates sample text from model after given number of epochs\n",
        "    'train_size': 0.8,          # proportion of input data to train on (the rest is validation)\n",
        "    'dropout': 0.2,             # model generalizes better with dropout, better scores on validation\n",
        "    'validation': True,         # If train__size < 1.0, test on validation dataset\n",
        "    'is_csv': False             # set to True if file is a csv\n",
        "}"
      ],
      "execution_count": 0,
      "outputs": []
    },
    {
      "metadata": {
        "id": "gFAU9z-2wL93",
        "colab_type": "text"
      },
      "cell_type": "markdown",
      "source": [
        "#### Mess with different hyperparameter settings\n",
        "\n",
        "With the task of text generation, we want the trained network to produce output sentences which are ***similar*** to the text it is trained on but ***not exactly identical***; a successfully trained model will be *creative* in its output. In my case this means it will learn the common set of poses which exist in yoga routines and so be able to produce realistic and physically possible yoga poses, but which are *novel in their sequence*. \n",
        "\n",
        "Because of this task, comparing a trained model's output to a test set makes little sense since we don't want to exactly mimic the text, and therefore there are no quantitative metrics for defining an ideally trained model. Rather, we want to monitor the loss on the training and validation sets throughout training to ensure the model is not over- or under-fitting the data (i.e. if the training and validation loss are similar, this indicates underfitting, and if the training loss is significantly less than the validation loss, this indicates over-fitting. In either case, we want to make sure the validation loss does not increase). \n",
        "\n",
        "With all this in mind, I'll train a few models and determine which set of hyperparameters gives the lowest loss on the validation set. I'll then use these hyperparameters for further testing of the model.\n",
        "\n",
        "____________\n",
        "\n",
        "I'll start with a model containing two RNN LSTM layers, each with 256 units. "
      ]
    },
    {
      "metadata": {
        "id": "6OFnPCLADfll",
        "colab_type": "code",
        "colab": {}
      },
      "cell_type": "code",
      "source": [
        "model_cfg['rnn_size'] = 256\n",
        "model_cfg['rnn_layers'] = 2\n",
        "model_cfg['max_length'] = 20\n",
        "model_cfg['max_words'] = 15000\n",
        "\n",
        "model_save_name = 'fulltext_wordlevel_size%s_layers%s_maxlength%s_maxwords%s_drop%.1f' % (model_cfg['rnn_size'],\n",
        "                                                                                          model_cfg['rnn_layers'],\n",
        "                                                                                          model_cfg['max_length'],\n",
        "                                                                                          model_cfg['max_words'],\n",
        "                                                                                          train_cfg['dropout'])\n",
        "\n",
        "# Model will be saved to my google drive account\n",
        "model_save_path = google_drive_dir + model_save_name"
      ],
      "execution_count": 0,
      "outputs": []
    },
    {
      "metadata": {
        "id": "aeXshJM-Cuaf",
        "colab_type": "code",
        "outputId": "28ad1fd3-207d-463a-c085-f7ea2d4c7b9e",
        "colab": {
          "base_uri": "https://localhost:8080/",
          "height": 888
        }
      },
      "cell_type": "code",
      "source": [
        "textgen = textgenrnn(name=model_save_path)\n",
        "\n",
        "train_function = textgen.train_from_file\n",
        "\n",
        "train_function(\n",
        "    file_path=text_file_path,\n",
        "    new_model=True,\n",
        "    num_epochs=train_cfg['num_epochs'],\n",
        "    gen_epochs=train_cfg['gen_epochs'],\n",
        "    save_epochs=train_cfg['save_epochs'],\n",
        "    batch_size=1024,\n",
        "    train_size=train_cfg['train_size'],\n",
        "    dropout=train_cfg['dropout'],\n",
        "    validation=train_cfg['validation'],\n",
        "    is_csv=train_cfg['is_csv'],\n",
        "    rnn_layers=model_cfg['rnn_layers'],\n",
        "    rnn_size=model_cfg['rnn_size'],\n",
        "    rnn_bidirectional=model_cfg['rnn_bidirectional'],\n",
        "    max_length=model_cfg['max_length'],\n",
        "    dim_embeddings=100,\n",
        "    word_level=model_cfg['word_level'])"
      ],
      "execution_count": 16,
      "outputs": [
        {
          "output_type": "stream",
          "text": [
            "625 texts collected.\n",
            "Training new model w/ 2-layer, 256-cell Bidirectional LSTMs\n",
            "WARNING:tensorflow:From /usr/local/lib/python3.6/dist-packages/keras/backend/tensorflow_backend.py:3445: calling dropout (from tensorflow.python.ops.nn_ops) with keep_prob is deprecated and will be removed in a future version.\n",
            "Instructions for updating:\n",
            "Please use `rate` instead of `keep_prob`. Rate should be set to `rate = 1 - keep_prob`.\n",
            "Training on 1,940,734 word sequences.\n",
            "WARNING:tensorflow:From /usr/local/lib/python3.6/dist-packages/tensorflow/python/ops/math_ops.py:3066: to_int32 (from tensorflow.python.ops.math_ops) is deprecated and will be removed in a future version.\n",
            "Instructions for updating:\n",
            "Use tf.cast instead.\n",
            "WARNING:tensorflow:From /usr/local/lib/python3.6/dist-packages/tensorflow/python/ops/math_grad.py:102: div (from tensorflow.python.ops.math_ops) is deprecated and will be removed in a future version.\n",
            "Instructions for updating:\n",
            "Deprecated in favor of operator or tf.math.divide.\n",
            "Epoch 1/5\n",
            "1895/1895 [==============================] - 774s 408ms/step - loss: 3.6898 - val_loss: 3.2502\n",
            "Epoch 2/5\n",
            "1895/1895 [==============================] - 757s 400ms/step - loss: 3.0969 - val_loss: 3.1054\n",
            "Epoch 3/5\n",
            "1895/1895 [==============================] - 763s 403ms/step - loss: 2.8888 - val_loss: 3.0499\n",
            "Epoch 4/5\n",
            "1895/1895 [==============================] - 764s 403ms/step - loss: 2.7299 - val_loss: 3.0291\n",
            "Epoch 5/5\n",
            "1895/1895 [==============================] - 763s 403ms/step - loss: 2.5926 - val_loss: 3.0154\n",
            "####################\n",
            "Temperature: 0.2\n",
            "####################\n",
            "hey everyone and welcome to yoga with adriene . i ' m adriene and this is benji and today we have an awesome yoga for the feet . this is a great way to build strength and strength , and to help you to feel like you ' re doing a great job . so , i ' m going to put the blanket underneath the bum , so you can see that my toes are coming in and out . so , i ' m going to bring the palms together and i ' m gonna bring my hands to the tops of the thighs . i ' m gonna draw the heels up towards the sky . and then i ' m going to inhale , reach the fingertips up towards the sky . big stretch , big breath . and then exhale , hands to heart . namaste . ( upbeat music )\n",
            "\n",
            "hey , welcome back to yoga with tim . today , we ' re gonna do a little bit of core work . so , let ' s get started . okay , so let ' s get started . ( upbeat music ) alright , so let ' s begin in a nice comfortable seat . so come on down to the ground . take your time . when you get there , take your time getting there . and then when you ' re ready , inhale , reach the fingertips up and overhead . and then exhale , hands to heart . namaste . ( upbeat music )\n",
            "\n",
            "hey everyone , welcome to yoga with adriene . i ' m adriene and today we have a sequence for the head flow . it ' s day 15 , 20 minutes , so i hope you ' re feeling like you ' re feeling a little anxious , a little bit of a challenge . you can also do this on the other side . so , if you ' re new to the practice , you can just do a little scan , a little bit of a break , a little love , a little love . and then we ' ll bring the hands together at the heart . take a deep breath in . and a long breath out . great , inhale in . exhale , release . ( exhaling ) inhale , halfway lift . ( inhaling ) exhale , bow . ( exhaling ) inhale , reach for the sky . ( inhaling ) exhale , hands to heart . ( exhaling ) inhale , reach it up . ( inhaling ) exhale , hands to heart . ( exhaling ) inhale , reach it up . ( inhaling ) exhale , hands to heart . ( exhaling ) inhale , reach it up . ( inhaling ) exhale , hands to heart . ( exhaling ) inhale , reach it up . ( inhaling ) exhale , hands to heart . ( exhaling ) inhale , reach it up . exhale , hands to heart . ( exhaling ) inhale , reach it up . exhale , diving forward . inhale , halfway lift . ( inhaling ) exhale , bow . ( exhaling ) inhale , reach for the sky . ( inhaling ) exhale , hands to\n",
            "\n",
            "####################\n",
            "Temperature: 0.5\n",
            "####################\n",
            "hey everyone and welcome to your 31 day yoga revolution . it ' s day 24 and today we have an awesome yoga for the brain , or this is an awesome practice to just kind of allow yourself to be present , allow yourself to be present . and feel your body , and your breath . and then we ' ll bring the hands to the belly and then we ' ll take a deep breath in and exhale , release . come back to center . and we ' ll come back to all fours . curl the toes under . lift the kneecaps . tone the quads . press into your foundation . inhale , cobra . exhale , release . ( exhaling ) inhale , cobra , or maybe you hop the feet together . exhale , down dog . ( deep breaths ) so , take a second here to just set an intention , connect to your breath . and then we ' ll meet in downward facing dog . take a couple of breaths here , in and out . and then you ' ll drop the right fingertips down to the earth , and just take a second to really feel the stretch in the side body , the back of the neck . and then on an exhale , just start to notice how you feel , notice how you feel . notice how you feel . notice how you feel . notice the quality of air . and then we ' ll release the arms and come to lie flat on the back . so this time , we ' re going to take a second to get settled in , and really see if you can\n",
            "\n",
            "hey everyone , welcome to yoga with adriene . i ' m adriene and this is benji and today we have an awesome yoga for the brain . this is a big request , this is a great way to really get to go through your practice . so , i hope you enjoy your practice . this is a great way to kick off the video , and subscribe to the channel . i ' ll see you next week .\n",
            "\n",
            "hey , welcome back to yoga with tim . today , we ' re gonna do a little flow with the exercises for the day , but the mantra is , \" i am strong . \" and then we ' ll slowly release . and we ' ll take it to the other side . so you ' re going to inhale , lift the right leg up high . exhale , knee to nose . inhale , kick it out . exhale , knee to nose . inhale , kick it up . exhale , shift it forward . inhale , kick it up . exhale , shift it forward . inhale , kick it out . exhale , knee to nose . inhale , kick it back . exhale , knee to nose . inhale , kick it up . exhale , squeeze and lift . inhale , kick it back . exhale , squeeze and lift . inhale , lower . exhale , lift . inhale , lower . exhale , lift . inhale , lower . exhale , lift . inhale , lower . exhale , lift . inhale , lower . exhale , lift . and then inhale , lower . exhale , lift . inhale , lower . exhale , lift . inhale , lower . exhale , lift . inhale , lower . exhale , lift . inhale , lower . exhale , lift . last one , inhale , lower . exhale , lift . inhale , lower . exhale , lift . inhale , lower . exhale , lift . inhale , lower . exhale , lift . keep the chin tucked , shoulders are nice and open . inhale , lift up . and exhale , release\n",
            "\n",
            "####################\n",
            "Temperature: 1.0\n",
            "####################\n",
            "hello . everyone . welcome to yoga with adriene . i ' m adriene , today we have yoga for home yoga . so , my name is where i ' d like for people to consider this just doing a sounds , sort of like ah . \" but that ' s not even focused like this . so we ' re breathing deep . you might get a little massage on , okay , and then hips are staying tight in the hamstrings , and lifted away from the floor , the length of the spine is nice and even and being able to close your eyes . we can get permission to just hang on a step or a then how you stand with it . maybe you can use a pillow or a blanket . it hip socket width apart here . it can be relaxed . and then you just kinda want to come in here . slowly coming forward to all fours . now we ' re going to step the right up , move through a vinyasa . inhale , look forward . exhale , belly to cobra or up dog . so inhale in . exhale , right away building strength here as i lie all the way up to mountain pose . nose to knee alignment with the feet . so this is another good video for you . we ' re going to lift the hips up . so , i ' m adding onto my right ear here and inhale , reach up . and exhale , general . tilt towards the right elbow . inhale . exhale , twist . one more time , with regular arms . lined up your yoga practice , so they\n",
            "\n",
            "this is going to yoga with tim . today we have three stretches and we take our hands as well , so all this levels is powerful . this is just relaxing your face . you have an opportunity here to go fingers and ones that you want to be doin ' , but you ' ll close your eyes if you ' re just still breathing instead of lifting up with the chest gently forward so the any space even more full if you can ' t find the movement you want to roll those triceps up against the ceiling and the lower back such a higher common also outside of your arch and feel the hop of roll and roll slowly extend the leg so you can do it . put your hand on your hip , without lifting . this is requirement if you can ' t touch the floor or if you want your forearm ' s okay just having one side or take the palm on the floor exhaling melting right hand down onto the floor the left arm and then left leg reaches up to the sky and then if you ' re crossing the leg at the wall and same thing just kind of like this and i ' m going to lift my hips up to a sky . let ' s bring it to plank or half plank . strong plank here . do one more vinyasa here . make sure you will rush guys to that awesome child ' s pose . take a deep breath in and an exhale out through exhale bring your attention back to nourishing your body moving over to your body and let ' s inhale reach for the sky , soft bend\n",
            "\n",
            "hey , welcome back to yoga with tim . the total yoga class is the final are really lean . by learning about old said that , quieting cry , i don ’ t have something it needs whatever to mindfully settle . but at the end of the year now i ' ll see ya next time .\n",
            "\n"
          ],
          "name": "stdout"
        }
      ]
    },
    {
      "metadata": {
        "id": "e9sWY4hen5Yb",
        "colab_type": "text"
      },
      "cell_type": "markdown",
      "source": [
        "**After 5 epochs, the results are looking very promising. Let's try increasing the number of layers to 3 to see whether a larger/deeper network will give better results.**"
      ]
    },
    {
      "metadata": {
        "id": "aLw6NmozRDJt",
        "colab_type": "code",
        "colab": {}
      },
      "cell_type": "code",
      "source": [
        "model_cfg['rnn_size'] = 256\n",
        "model_cfg['rnn_layers'] = 3\n",
        "model_cfg['max_length'] = 20\n",
        "model_cfg['max_words'] = 15000\n",
        "\n",
        "model_save_name = 'fulltext_wordlevel_size%s_layers%s_maxlength%s_maxwords%s_drop%.1f' % (model_cfg['rnn_size'],\n",
        "                                                                                          model_cfg['rnn_layers'],\n",
        "                                                                                          model_cfg['max_length'],\n",
        "                                                                                          model_cfg['max_words'],\n",
        "                                                                                          train_cfg['dropout'])\n",
        "\n",
        "model_save_path = google_drive_dir + model_save_name"
      ],
      "execution_count": 0,
      "outputs": []
    },
    {
      "metadata": {
        "id": "bsA_NXTLMWZu",
        "colab_type": "code",
        "colab": {
          "base_uri": "https://localhost:8080/",
          "height": 732
        },
        "outputId": "09313c31-0c47-48ba-c4c5-1408a1c1b450"
      },
      "cell_type": "code",
      "source": [
        "textgen = textgenrnn(name=model_save_path)\n",
        "\n",
        "train_function = textgen.train_from_file\n",
        "\n",
        "train_function(\n",
        "    file_path=text_file_path,\n",
        "    new_model=True,\n",
        "    num_epochs=train_cfg['num_epochs'],\n",
        "    gen_epochs=train_cfg['gen_epochs'],\n",
        "    save_epochs=train_cfg['save_epochs'],\n",
        "    batch_size=1024,\n",
        "    train_size=train_cfg['train_size'],\n",
        "    dropout=train_cfg['dropout'],\n",
        "    validation=train_cfg['validation'],\n",
        "    is_csv=train_cfg['is_csv'],\n",
        "    rnn_layers=model_cfg['rnn_layers'],\n",
        "    rnn_size=model_cfg['rnn_size'],\n",
        "    rnn_bidirectional=model_cfg['rnn_bidirectional'],\n",
        "    max_length=model_cfg['max_length'],\n",
        "    dim_embeddings=100,\n",
        "    word_level=model_cfg['word_level'])"
      ],
      "execution_count": 18,
      "outputs": [
        {
          "output_type": "stream",
          "text": [
            "625 texts collected.\n",
            "Training new model w/ 3-layer, 256-cell Bidirectional LSTMs\n",
            "Training on 1,941,262 word sequences.\n",
            "Epoch 1/5\n",
            "1895/1895 [==============================] - 964s 509ms/step - loss: 5.5488 - val_loss: 3.3122\n",
            "Epoch 2/5\n",
            "1895/1895 [==============================] - 968s 511ms/step - loss: 3.1548 - val_loss: 3.1142\n",
            "Epoch 3/5\n",
            "1895/1895 [==============================] - 971s 512ms/step - loss: 2.9111 - val_loss: 3.0528\n",
            "Epoch 4/5\n",
            "1895/1895 [==============================] - 972s 513ms/step - loss: 2.7284 - val_loss: 3.0256\n",
            "Epoch 5/5\n",
            "1895/1895 [==============================] - 971s 512ms/step - loss: 2.5644 - val_loss: 3.0153\n",
            "####################\n",
            "Temperature: 0.2\n",
            "####################\n",
            "hey everyone , welcome to yoga with adriene . i ' m adriene and this is benji and today we have a yoga for beginners practice . this is a great practice for you . this is a great place to do . so , this is a great practice that you can do to just kind of feel like you ' re not holding your breath . so we ' re gonna start to wake up the body . so , we ' re gonna start to wake up the muscles of the legs . so , start with the hands on the floor , roll the shoulders back and down . so , you ' re just gonna hold your legs up . and then come back up . and then we ' re gonna do some of this exercise . so , we ' re gonna do some standing poses , so we ' re gonna start off in the middle of the boat . so , you ' re just gonna take your hands to your belly . and then you ' re gonna lift your right knee up and then you ' re gonna cross it over towards the left side of your mat . so you ' re gonna inhale , reach the right fingertips all the way up and overhead . and then exhale , bring it all the way back down . awesome work . plant the palms . step the right toes back . step the left toes back . inhale , shift forward . exhale , lower all the way to the belly . inhale , cobra or up dog . exhale , release . curl the toes under , press up to plank or half plank .\n",
            "\n",
            "hey everyone , and welcome to yoga with adriene . i ' m adriene and this is benji and today we have an awesome practice for you . this is a great practice for you . this is a great practice for anyone who is wanting to create a healthy body experience . so , hop into something comfy and let ' s get started . ( upbeat music ) alright , my friends , let ' s begin in a nice comfortable seat . welcome back . take your time getting there . and when you get there , take a deep breath in . and a long breath out . and then we ' ll release the fingertips , bring them behind the head . bring the palms together . and then we ' re gonna slowly bring the hands to the heart . take a second to close your eyes and just notice how you feel . notice how you feel . notice how you feel . notice the quality of the breath . notice how you feel . notice how you feel . notice the quality of air in the room . notice how you feel . notice how you feel . notice the quality of the breath . notice how you feel . notice how you feel . notice the quality of the breath . notice how you feel . notice how you feel . notice the quality of air in the room . notice how you feel . notice the quality of air in the room . notice how you feel . notice how you feel . notice how you feel . notice how you feel . then when you ' re ready , slowly roll it up . and then we\n",
            "\n",
            "hey everyone , and welcome to yoga with adriene . i ' m adriene and this is benji and today we have an awesome practice for you . this is a great practice for you . this is a great practice to help you to get in the habit of getting the most out of your day . so , we ' ll begin with a little cat - cow . so , this time , we ' re going to inhale , reach the fingertips up towards the sky . and exhale , palms come together . we ' re gonna take a second to just observe the breath . inhale in . exhale , relax the shoulders down . ( exhales ) and one more time , inhale , reach for the sky . and exhale , hands to heart . ( exhaling ) inhale , reach it up . exhale , diving forward . ( exhaling ) inhale , halfway lift . ( inhaling ) exhale , bow . ( exhaling ) inhale , reach for the sky . ( inhaling ) exhale , hands to heart . ( exhaling ) great , inhale , reach for the sky . exhale , forward fold . inhale , halfway lift . exhale , bow . inhale , reach for the sky . big breath , big stretch . exhale , hands to heart . ( exhaling ) inhale , reach it up . ( inhaling ) exhale , hands to heart . ( exhaling ) great , inhale , reach for the sky . exhale , forward fold . inhale , halfway lift . exhale , bow . inhale , reach for the sky . exhale , hands to heart . ( exhaling ) great ,\n",
            "\n",
            "####################\n",
            "Temperature: 0.5\n",
            "####################\n",
            "hey everyone and welcome to yoga with adriene . i ' m adriene and this is benji and today we have an awesome practice for you . this is gonna be a great way to help you feel good . so take your time getting there . and i love you guys so much . namaste . ( bright music )\n",
            "\n",
            "[ lesley ] welcome to fightmaster yoga . it ' s day 24 , and we ' re gonna do a new yoga practice . it ' s gonna be great . so , i ' m gonna do a quick second to just get into the next pose , but i want you to keep the integrity in the shoulders . and then inhale , reach the fingertips all the way up . and exhale , diving forward . inhale , halfway lift . follow your breath . exhale , bow . step or hop it back to plank . you got this . breathe deep . inhale , drop the belly . ( takes deep breath ) exhale , hands to heart . ( exhaling ) inhale . reach the fingertips up . ( inhaling ) and exhale , hands to heart . ( exhaling ) great , inhale , reach for the sky . exhale , forward fold . ( exhaling ) inhale halfway lift . ( inhaling ) exhale , bow . ( exhaling ) inhale , reach for the sky . ( inhaling ) exhale , hands to heart . ( exhaling ) inhale , reach up . ( inhaling ) exhale , three - legged dog . ( exhaling ) inhale , lift it up . ( inhaling ) exhale , nose to knee . ( exhaling ) inhale , three - legged dog . and exhale , all the way back down to your lunge , awesome work . plant the palms . step the left toes back . step the right toes back . strong plank here . inhale , look forward . exhale , belly to cobra or chaturanga to up dog . inhale , press up through the\n",
            "\n",
            "hey , welcome back to yoga with tim . today , we ' re gonna do a nice standing sequence . so let ' s get started . we ' re going to begin in a nice comfortable seat . you can sit up on a blanket or block or pillow . or if you ' re more of a computer , you can just sit up on a wall . it ' s a nice little marker . so , we ' re gonna do a lot of work on the belly , so we ' re gonna use the ball of the spine to lift the chest up , the neck stays long . and then it ' s where you ' re gonna take a deep breath in . and a long breath out . and then , we ' ll come back to center , and we ' ll take it to the other side . so , you might take a second to rock the hips a little side to side . maybe you take a big beach ball up and overhead . so just take a second to look down . so this is a great posture , so just a reminder that you can really set the tone for your practice , and it ' s really just by simply bringing your attention to the breath . so just take a moment to notice how you feel . ( breathing deeply ) and then when you ' re ready , slowly release . awesome . bring the feet as wide as the yoga mat . you ' re gonna bring your hands to your belly . you ' re gonna bring the hands to the backs of the thighs . and\n",
            "\n",
            "####################\n",
            "Temperature: 1.0\n",
            "####################\n",
            "audition and welcome to yoga with adriene . i am adriene . i ' m adrian , and today , it ' s about caroline who easier will write it here . and when you ' re ready , we ' ll start with the fingertips down . inhale , and as you exhale , relax your shoulders . big inhale . and exhale . beautiful , come back to center and we ' re gonna come back to all fours . this is a plank pose . keep a soft bend in the knees as we take a deep breath in , ( takes deep breath ) and on the exhale , we relax the shoulders and shoulders down the back body . keep the heart lifted here last time wherever you are . and maybe you allow the weight of the head to drop down . no reason . and then we ' ll bring the palms to the waist or the shins . so chances are they ' re gonna help with the wrist to start to roll and just go with the restriction gaze can be by bringing them and happy that we ' re doing that then your breath to your breath you choose to let all the worry i ' m at today you drop right now if it was just ) imagine enjoyed the yoga really piece of yoga , wearing the mark . so cushion if you need to , but always do put your hands in front of your pelvis like that . the shoulders externally rotate , but pull in on your spine . ( inhale ) length in the solar plexus or the spine . exhaling , open twist to the right , give it a try\n",
            "\n",
            "hey everyone . flowin ' s reverence guys here , helps us to set intentions for more of these intentions , tension in the legs . so , as you ' re ready , we ' re gonna come to stand , nice and easy , head over heart , heart over pelvis , maybe length your legs and exhale , plant the palms . step it back in plank or maybe you take a vinyasa . you can always skip it . breathe deep . claw through the fingertips . curl the toes under . and then everyone , or here . if your hamstrings are shaking , you can clasp hands to elbows here and squeeze the legs in . ( sighs ) we rock onto the toes or anything . if you have , maybe not , maybe bring the thumbs to the arches of the feet . say it to your body , you might fix your hair . maybe you ' re a little tired today or you ' re already then double up , or maybe you lift the legs , slide a little pillow off your blanket . roll down through the tops of the thighs , just lift off , shift forward and back . flat back . and it does not feel right ? in your own time , first matt it up here , keeping the collarbones reaching up towards the sky . keep the hips lifted here , you might be able to peel the toes up if they aren ' t already . again , avoid your pose here , but keep it low ' s right in line with the middle and then just uncover the natural breath . always returning to the sound of\n",
            "\n",
            "hi guys , welcome to day 30 . these of are even though we are balancing on focusing on the foundations of yoga , outer aspect of our home . breath through your business position , whatever it is today , the wisdom of the mouth . let all the air out . all right , then take a deep breath in and relax your shoulders as you breathe out . gently bend your knees , take your nose to your chair , belly comes to the mat . awesome , inhale in , exhale reach the fingertips all the way back . you ' re gonna feel a nice groove as you slowly kick the right foot out and then bring it all the way through , and we ' re gonna take the right foot up here . and we ' re gonna switch the angle with the toes . keep doing your best . press into the ball joint of the big toe , ball joint . for this one , inhale , grow taller , gaze is forward . no need to put the weight up here . and on an exhale , curl the toes under . press up to a plank . and release through control , on your inhale , exhale , press away from your yoga mat . inhale , nice and easy in the back . on an exhale , forward fold all the way down on the earth . inhale , halfway lift . long , beautiful neck . exhale soften and fold . great , we ' re gonna continue to wake up the muscles of the abdominal wall just like , like i ' m . straight yoga blanket . rock forward . find that lift\n",
            "\n"
          ],
          "name": "stdout"
        }
      ]
    },
    {
      "metadata": {
        "id": "XC5foCn3qlO1",
        "colab_type": "text"
      },
      "cell_type": "markdown",
      "source": [
        "**The bigger/deeper model seems to give very similar results at the end of 5 epochs (according to the score on the validation set), so a more complex model does not seem necessary. Let us see what happens when we decrease the size of each layer.**"
      ]
    },
    {
      "metadata": {
        "id": "EDy1Xw8BFAK4",
        "colab_type": "code",
        "colab": {}
      },
      "cell_type": "code",
      "source": [
        "model_cfg['rnn_size'] = 128\n",
        "model_cfg['rnn_layers'] = 3\n",
        "model_cfg['max_length'] = 20\n",
        "model_cfg['max_words'] = 15000\n",
        "train_cfg['num_epochs'] = 10\n",
        "\n",
        "model_save_name = 'fulltext_wordlevel_size%s_layers%s_maxlength%s_maxwords%s_drop%.1f' % (model_cfg['rnn_size'],\n",
        "                                                                                          model_cfg['rnn_layers'],\n",
        "                                                                                          model_cfg['max_length'],\n",
        "                                                                                          model_cfg['max_words'],\n",
        "                                                                                          train_cfg['dropout'])\n",
        "\n",
        "model_save_path = google_drive_dir + model_save_name"
      ],
      "execution_count": 0,
      "outputs": []
    },
    {
      "metadata": {
        "id": "KI2jLWuNpFDk",
        "colab_type": "code",
        "colab": {
          "base_uri": "https://localhost:8080/",
          "height": 1392
        },
        "outputId": "1047d38c-d76d-4bb1-bfdf-d6c11266674a"
      },
      "cell_type": "code",
      "source": [
        "textgen = textgenrnn(name=model_save_path)\n",
        "\n",
        "train_function = textgen.train_from_file\n",
        "\n",
        "train_function(\n",
        "    file_path=text_file_path,\n",
        "    new_model=True,\n",
        "    num_epochs=train_cfg['num_epochs'],\n",
        "    gen_epochs=train_cfg['gen_epochs'],\n",
        "    save_epochs=train_cfg['save_epochs'],\n",
        "    batch_size=1024,\n",
        "    train_size=train_cfg['train_size'],\n",
        "    dropout=train_cfg['dropout'],\n",
        "    validation=train_cfg['validation'],\n",
        "    is_csv=train_cfg['is_csv'],\n",
        "    rnn_layers=model_cfg['rnn_layers'],\n",
        "    rnn_size=model_cfg['rnn_size'],\n",
        "    rnn_bidirectional=model_cfg['rnn_bidirectional'],\n",
        "    max_length=model_cfg['max_length'],\n",
        "    dim_embeddings=100,\n",
        "    word_level=model_cfg['word_level'])"
      ],
      "execution_count": 23,
      "outputs": [
        {
          "output_type": "stream",
          "text": [
            "625 texts collected.\n",
            "Training new model w/ 3-layer, 128-cell Bidirectional LSTMs\n",
            "Training on 1,940,806 word sequences.\n",
            "Epoch 1/10\n",
            "1895/1895 [==============================] - 729s 385ms/step - loss: 3.6947 - val_loss: 3.2757\n",
            "Epoch 2/10\n",
            "1895/1895 [==============================] - 717s 378ms/step - loss: 3.1579 - val_loss: 3.1431\n",
            "Epoch 3/10\n",
            "1895/1895 [==============================] - 700s 369ms/step - loss: 2.9898 - val_loss: 3.0933\n",
            "Epoch 4/10\n",
            "1895/1895 [==============================] - 707s 373ms/step - loss: 2.8780 - val_loss: 3.0741\n",
            "Epoch 5/10\n",
            "1895/1895 [==============================] - 730s 385ms/step - loss: 2.7892 - val_loss: 3.0619\n",
            "####################\n",
            "Temperature: 0.2\n",
            "####################\n",
            "hey everyone , welcome to yoga with adriene . i ' m adriene and today we have a nice , beautiful , beautiful , beautiful , beautiful , beautiful , beautiful , organic , yummy , long , smooth , deep breaths . so , we ' re gonna take a second to just notice how you feel . and then we ' ll take it to the other side . so , right hand comes to the center line . and then we ' re gonna come to a nice , low lunge . so we ' re gonna come to a nice low lunge here . so we ' re not just collapsing here , but we ' re not collapsing in the right shoulder here . we ' re not just collapsing . we ' re not just kind of cranking into the shape , but we ' re not just kind of cranking into the pose , but we ' re not just kind of cranking the hips , but we ' re just kind of giving ourselves a little bit of space . so we ' re gonna start with a little bit of a heat today . so , we ' re going to take a second to just kind of get situated here . so , we ' re gonna start with a little bit of a heat . so , we ' re gonna start with a little bit of a little movement . so , we ' re gonna start with a little bit of a little movement . so we ' re gonna start with a little bit of a movement . so , we ' re gonna start with a little bit of a little movement .\n",
            "\n",
            "hey , everyone ! welcome to 30 days of yoga with adriene . i ' m adriene and this is benji and today we have a sequence for the back of the year . this is a great way to do that , so you can take a break from your day . so , we ' re gonna start with a little bit of a heat . so , we ' re going to use the breath to just kind of move from the ground up . and we ' re gonna take a deep breath in . and a long breath out . and then we ' ll release . awesome work . we ' re gonna come to all fours . we ' re gonna come to all fours . so , we ' re gonna come to all fours . take a second to just kind of get situated here . so , we ' re gonna take a second to just kind of get settled in today . so , we ' re gonna take a second to just kind of get settled in today . so , we ' re gonna take a second to just kind of get settled in today . so , we ' re gonna take a second to just kind of get settled in today . so , we ' re gonna take a second to just kind of get settled in today . so , we ' re gonna take a second to just kind of get settled in today . so we ' re going to start with a little bit of a heat in the body . so , we ' re going to start with a little bit of a little heat .\n",
            "\n",
            "hey , welcome back to yoga with tim . today , we ' re gonna do a little sequence to help with the legs and the legs , the legs , the legs , the legs . so , if you ' re not able to go deeper , you can just grab your ankles , or you can just put a little bend in the knees . and then , you can just rest your forehead on your belly . and then we ' ll take a second to just close your eyes and just notice how you feel . and then we ' ll slowly release . awesome . bring the hands to the backs of the thighs . and we ' re gonna come to a seat . so we ' re gonna come into a nice comfortable seat . so , we ' re gonna start with a little bit of a little movement . so , we ' re gonna take the hands and we ' re gonna come to all fours . so , we ' re gonna come into a nice comfortable seat . so , we ' re gonna come to all fours . and then we ' re gonna come to all fours . so , we ' re gonna come to all fours . and we ' re gonna come to all fours . so , we ' re gonna come to all fours , tabletop position . so , we ' re gonna come to a nice comfortable seat . so we ' re gonna start in a nice comfortable seat . so you can sit up on a blanket or block or block or block . if you have a block , you can use a\n",
            "\n",
            "####################\n",
            "Temperature: 0.5\n",
            "####################\n",
            "hey , welcome back to yoga with tim . today , we ' re gonna do a slow walk back and forth in between the hands and knees , and we ' ll inhale , lift to flat back . exhale , fold . inhale , halfway lift , your version . exhale to soften and bow . inhale , reach for the sky . exhale , hands to heart . ( exhaling ) inhale , halfway lift . exhale , bow . inhale , reach for the sky . exhale , forward fold . inhale , halfway lift . exhale , bow . inhale , step or hop it back to plank . find your vinyasa . move with your breath . move with your breath . inhale , lift . exhale , downward facing dog . great , inhale , look forward . exhale , step it back to plank . inhale , shift forward . exhale , lower down . inhale , lower . exhale , lift . inhale , lower . exhale , lift . inhale , lower . exhale , squeeze . exhale , squeeze , navel in . inhale , lower . exhale , lift . inhale , lower . exhale , lift . inhale , lower . exhale , lift . inhale , lower . exhale , lift . inhale , lower . exhale , lift . inhale , lower . exhale , lift . inhale , lower . exhale , lift . inhale , lower . exhale , lift . inhale , lower . exhale , lift . inhale , lower . exhale , lift . inhale , lower . exhale , lift . inhale , lower . exhale , lift . inhale , lower . exhale , lift .\n",
            "\n",
            "hey everyone . welcome to yoga with adriene . i ' m adriene and this is benji and today we have a sequence for the body . you can also take a second to just get settled in . and as you ' re ready , bring the left hand to the right wrist and just look over your right shoulder . and then we ' re just gonna take our right hand to the top of the left thigh . we ' re gonna reach left fingertips forward , up and back , big stretch . and then exhale , right hand to the heart . inhale and exhale , left fingertips to the ground . inhale . open the chest , open the chest . exhale , twist . inhale , lift and lengthen . exhale , twist . inhale , come back to center . now we ' re gonna move into the twist . so , open up your right hip to the right , and then come to center . and then you ' re gonna come to a fetal position . take a second to just notice how you feel . take a moment to just observe your breath . notice how you feel . and then we ' ll bat the eyelashes open , and we ' ll begin to deepen the breath . so , we ' re gonna start with a little bit of movement today , so we ' re gonna take our time for a little bit of a rest . so , we ' re gonna inhale , reach the fingertips up and overhead . big stretch . and then exhale , hands to heart . anjali mudra at the heart . we ' re just\n",
            "\n",
            "hey , welcome back to yoga with tim . today , i ' m lesley fightmaster . this is benji and today we have a lot of things for the first time . so we ' re gonna take a second to just ground and sit up nice and tall . if you have the block , you can grab the ankles and lift the hips , and lift them up . otherwise , just take a second to just close your eyes . and find what feels good . just notice how you feel . notice how you feel . notice how you feel . notice how you feel . notice how you feel . notice how you feel . and then slowly roll it back up . come back to center . and then we ' ll come back to center . so , you ' re gonna bring the right foot in , and step the left foot all the way up . lower the back knee . and we inhale , open the heart . and exhale , plant the palms , step the right toes back . move with your breath . inhale to look forward . exhale to make your way to the top . inhale , halfway lift . exhale , bow . inhale , sweep the arms all the way up and overhead , full body stretch . exhale , diving forward , mountain pose . inhale , halfway lift . exhale , fold . inhale , reach for the sky . exhale , hands to heart . inhale , halfway lift . exhale , fold . bend the knees . plant the palms , step it back to plank . you got it . inhale , heart forward .\n",
            "\n",
            "####################\n",
            "Temperature: 1.0\n",
            "####################\n",
            "so if loss is similarly ask . , remember , \" \" okay , and he has to fall , \" okay , you open out i invite new , then my dad can ' t reach yoga with adriene , go out . and then i ' ll show you how to do this with legs , like this . it doesn ' t matter how will fit , isn ' t enough to go it up and step with the feet . as you inhale , press into up dog or cobra . open your chest and open up your chest . exhale , downward dog , step to down dog . inhale , raise your left leg up and then bring it blog , exhale to chaturanga . inhale , chest forward , step back to plank pose . just take it back . inhale , cobra , exhale , downward facing dog . now i ' m sorry , awesome and then slowly , nice and slow , gonna open it up and over over again . reaching towards the top , and flex your left toes , draw the lower ribs in , now lunges free , really unstable here or start to activate the upper back body . so just kind of mindful shape , hug it in . breathing , breathe , relaxing the jaw , some soft , beneath connection . finding what feels good . bring the hands as wide as your yoga mat . open the knees wide . separate them about to the right . again , a little challenging posture here . i have some support there . anything that you can do in life multiple . keep your belly lifted , and here we go\n",
            "\n",
            "( ' ) welcome to 30 retracting , revolution , 30 day yoga . it ' s day 12 . it ' s the best way to los angeles . so to play with it , spread a mantra , and give your thinking what to do list or planning to just be in life with you , namaste . the fourth one ' out . alright , so , close your eyes , take a deep breath in . watch your your body is a way healing . it ' s like utkatasana position and more . open up the chest as you stretch your right side of your room . make lead with the accents . okay , lift your left leg , draw your knee towards your chest . shift into plank , pull your knee up your heel in , and step your foot all the way up by your right thumb . then second side , inhale and raise your arms up . exhale , ears arm bones out as you stretch your arms up , breathe across . good , then walk your feet together . roll onto the right side , and press a little bit closer to your feet , and lift your bottom leg up toward the ceiling . and if it is too much to hold a strap , you can savasana . and find your release , let everything go . begin to notice the breath come down into the mat and allowing this mindfulness to er as we soften and receive good take some time with yourself and nothing to look at it and breathe and then begin to release left hand to your belly right hand will be close towards you just breathing the posture\n",
            "\n",
            "hey guys , welcome back to yoga with tim . i ' m lesley fightmaster , this is day strengthen practices , open in your health and everybody . and i ' m gonna help all the time to work your link and for myself thank you so much for watching today ' s challenging it work and with all of that spent brought here for the rest of life . and it ' s not gonna matter on yoga every place of relationship , it really need to accomplish the practices , so not something , how challenging it hasn ' t living teaching . but it will still work to get strong . so , lastly , i always say , \" mind , we ' re roll up , just allow ourselves more and conscious , steady forward bends . so rather than just integrate a lot , that ' d be more mindful . let ' s just do one more more breath cycle and doing your best side . ( breathing deeply ) through the nose or mouth . ( inhales ) and the right hand through center . ( exhaling ) circle it out . nice , inhale , lift . and exhale , just tilt , forward , up and back , peaceful warrior . breathe deep . inhale , spreading the finger tips reach up , exhale down we go . forward fold . then inhale , halfway lift . big move . exhale , hands to heart . ( breathing ) now , chin to - chest , chin to chest . source helps to create space in the front body . imagine that nice , long , beautiful line from the crown to the runner ' s going\n",
            "\n",
            "Saving Model Weights — Epoch #5\n",
            "Epoch 6/10\n",
            "1895/1895 [==============================] - 729s 385ms/step - loss: 2.7144 - val_loss: 3.0615\n",
            "Epoch 7/10\n",
            "1895/1895 [==============================] - 731s 386ms/step - loss: 2.6459 - val_loss: 3.0591\n",
            "Epoch 8/10\n",
            "1895/1895 [==============================] - 731s 386ms/step - loss: 2.5842 - val_loss: 3.0567\n",
            "Epoch 9/10\n",
            "1895/1895 [==============================] - 723s 381ms/step - loss: 2.5254 - val_loss: 3.0537\n",
            "Epoch 10/10\n",
            "1895/1895 [==============================] - 703s 371ms/step - loss: 2.4718 - val_loss: 3.0514\n",
            "####################\n",
            "Temperature: 0.2\n",
            "####################\n",
            "hi everyone and welcome to dedicate , your 30 day yoga journey . it ' s day 17 . and today ' s practice is about tapping into a mantra , \" i am strong . \" and then we ' ll release . awesome . curl the toes under . press up to plank or half plank . you can lower the knees here . if you want to lower the knees , hug the elbows into the side body . and then we ' ll slowly roll up to mountain . and then we ' ll slowly roll up . back to all fours . take your time . take your time . when you arrive , we ' ll take a deep breath in . and a long breath out . and then we ' ll take it to the other side . so , right hand comes to the earth , left fingertips behind . so we ' re not just collapsing into the right shoulder here . we ' re not collapsing into the right shoulder here . we ' re not collapsing into the shoulders here . we ' re not just kind of cranking into the pose , but we ' re not just kind of mindlessly cranking into the pose , but we ' re not just kind of mindlessly cranking into the pose , but we ' re just kind of connecting to the core , the center , the core . and then we ' ll bring the hands back to the heart . take a deep breath in . and a long breath out . and then we ' ll release . come back to center . we ' re gonna bring the feet together , really\n",
            "\n",
            "hi everyone and welcome to dedicate , your 30 day yoga journey . it ' s day 17 , and today is day four , and the mantra today is , \" i am strong . \" i am strong . \" and then we ' ll release . ( exhaling ) great . slowly lower the knees . bring the feet together . knees wide . send the fingertips out left to right . inhale in . exhale , slowly lower down . inhale , cobra . exhale , downward facing dog . inhale , left leg lifts . exhale , step it up by the right hand . stay on the ball of your back foot . inhale , come up . exhale , bring your hands to your heart . lean your chest out over your knee . inhale , come back up . turn your feet to the other side . bend your right knee , put your hand down . and then start to reach your right arm all the way over your ear . and then come back to center . change sides . hug your knees into your chest . roll yourself up to seated . sit up tall . bring your hands together . thank you , namaste . alright , so thanks for watching today . i hope you enjoyed this class . hit the like button , leave a comment below , let me know how it goes . ( upbeat music ) alright , let ' s begin in a nice comfortable seat . take a second to get settled in . take a second to just notice how you feel . notice how you feel . notice how you feel . and then when you '\n",
            "\n",
            "hi everyone . welcome to yoga with adriene . i ' m adriene and this is benji and today we have a special yoga for the feet . so hop into something comfy and let ' s get started . ( upbeat music ) alright my friends , let ' s begin in a nice comfortable seat . take your time getting there . you can close your eyes and just take a moment to notice how you feel . notice how you feel . notice how the body feels . notice how the body feels . observe the quality of the mind . notice the quality of the mind and the body . notice the quality of the mind and the body . notice the quality of the mind and the body . notice the quality of the mind . the body is a feeling . the body is a deep exhalation . . . . . . . . . . you ' re going to be aware of your body . . . . . . . . . . . . . . . . . . . . . . . . . . . . . . . . . . . . . . . . . . . . . . . . . . . . . . . . . . . . . . . . . . . . . . . . . . . . . . . . . . . . . . . . . . . . . . . . . . . . . . . . . . . . . . . . . . . . . . . . . . . . .\n",
            "\n",
            "####################\n",
            "Temperature: 0.5\n",
            "####################\n",
            "hey everyone and welcome to yoga with adriene . i ' m adriene and today we have a special yoga for shoulder . and for you , i ' m really excited about it , but it ' s just a little bit of a challenge . i think it ' s a good way to start . so we ' re gonna talk about it . so , let ' s hop on the mat and get started . ( gentle music ) alright my darling friends , let ' s begin in a nice comfortable seat . come on down to the ground , and let ' s just take a second to roll the head up , and then we ' ll bring the hands together at the heart . we ' ll take a deep breath in . and as you exhale , relax the weight of your body completely and fully into the earth . let the breath move you . then when you ' re ready , we ' ll release the arms . bring the big toes to touch . toes are gonna splay out just slightly . we ' re gonna press the palms into the earth , and then we ' re gonna take the thumbs to the arches of the feet and lift the hips up high . so we ' re gonna slowly walk the fingertips forward . so we ' re gonna come to all fours . inhale in . exhale out . inhale , drop the belly , open the chest . exhale to round through . inhale , come back up . exhale , hands to your heart . inhale , raise your arms up . exhale , fold forward . inhale , flat\n",
            "\n",
            "hey , welcome back to yoga with tim . today we ' re gonna do a vinyasa flow for the rest . so , today , i ' m going to move into a little bit of a rock here , i ' m going to inhale , reach the fingertips up high . so the shoulder blades are coming in and together . exhale , hands to heart . last one , inhale . exhale , release . come on down to the ground . we ' ll bring the hands to the knees . we ' re gonna bring the knees as wide as the yoga mat . so , a little bit of a puppy posture here . so we ' re going to come into a nice comfortable seat , and we ' re gonna come to a nice cross - legged seat . so you can take the knees nice and wide . take a second here to check in with the neck . find what feels good . and then when you ' re ready , inhale , reach for the sky . exhale , bend the elbows , thumbs back , pinkies forward . inhale , reach up . exhale , down you go . inhale , halfway lift . exhale , fold . bend the knees . plant the palms , step it back , plank pose . inhale , shift forward . exhale to lower . inhale to open your heart . exhale to release . awesome , fingertips come to the mat , and we ' re going to step the right toes back . this time we ' ll pivot on the back foot , and you ' re gonna open up to a warrior ii .\n",
            "\n",
            "hey , welcome back to yoga with tim . i ' m tim and this is where i ' m about . today , we ' re gonna start with a beginner ' s tree pose . so i want you to feel it in your center line , and then you ' re gonna bring the hands to the backs of the thighs and the knees , and the knees are in towards the center line , and then just take a moment to close your eyes and just kind of notice what ' s going on in the neck . and then again , we ' re going to come to a nice , comfortable seat , nice and easy . and we ' re gonna come up onto our hands , fingertips , knees wide . come into a little squat , then you ' re gonna bring your feet in , heels out in front , inhale , look up . exhale , step or hop up to the top . inhale , halfway lift , your version . exhale , soften and bow . inhale , reach for the sky . exhale , hands to heart . here we go , inhale , reach it up . exhale , diving forward . inhale , halfway lift . exhale , fold . inhale , reach for the sky . exhale , soften and bow . inhale , reach for the sky . exhale , forward fold . inhale , reach for the sky . exhale , hands to heart . ( exhaling ) inhale , reach . exhale , bend . inhale , reach . exhale , rain it down . inhale , reach up . exhale , fold . inhale , reach for\n",
            "\n",
            "####################\n",
            "Temperature: 1.0\n",
            "####################\n",
            "hey and everyone ' s day 30 ( soft laugh ) hi , my teacher from a family guide . okay , let ' s begin standing splits . alright now release your hands and your crown cool and tip the pelvis back as you squeeze in . and then a little more in the belly here a lot , stretch it out . melt your heart right back into center . don ' t force the neck here . great , one more cycle and then slowly roll it up to mountain . awesome work . so take a moment here . allow your tool to be a part of your mind and perhaps all the you have out of the problems . i think that that ' s what toward really others has taught the end of new keeping the spine lubricated and it ' s very typical to start to work the with the neck , belly in and up , so often we all really jumping on our yoga mat , come to kind of lean your head back , what ' s going on when we ' re trying to get a nice opening opening , from the ground up through the front body . allow your legs a little bit hint to breathe . choose to enjoy your breath . then be aware of the breath in your movement and the movement to synchronize with your breath , dressing , and sometimes in that loud way , the mental and the release of my friend . \" so rather than just down dog , then whenever you ' re ready to on all fours , keep going . make your way up to downward facing dog . great . inhale in .\n",
            "\n",
            "hey guys we ' ll adventurous it was our incredible psychologist for healthy flow of yoga for yoga switching doke citta also known as breath as cortex . student : yeah . there is no doubt whether children will tune improve . ” and i must have different injury , and there do the flexibility , and joint of mind . and today ' s more interested in learning to activating those well - being with the bones , and and though the wall comes to me . but when you do this , there are a tendency where we ' re not just stressed out . so we use that only tadasana at once the bit of time you can just stay static . bend your left knee . put your hand down onto the outside of your foot just like a nice stretch for your knee . then come back up , turn your feet to the other side , feet out , pick up your right foot . angle your right foot in . line from your heel to your arch of your foot . take as much as you can and eventually we come the other way and think about oh yeah , i have joyful pillow underneath the shoulders . try not to feel silly but inhale in . exhale to gently connect to your center . plug the shoulders in . breathe out . then inhale , again , carve a line with the nose . look past your left shoulder . find that long beautiful neck . let it hover . again if you need a thinks , don ' t you humanity a bit . ( exhaling ) \" now , we have a little bit of region into the\n",
            "\n",
            "hi everyone and welcome to dedicate to dedicate , your 30 day yoga journey . it ' s day 17 and feels awesome . for the beautiful work towards your other awesome reminder that your next day . quietly whisper to yourself , \" i trust . \" we dark in the downward - facing dog . ( breathing ) so , we ' re going to end today , big toes with the heels . inhale in . exhale out . good . slowly lower both knees . we ' ll drop the heels , make sure that the toes spill off the mat . and then take your gaze up towards the sky if you like or extended child ' s pose . and then , again we ' re gonna make an way to stillness and another time for our final goal . so , one more breath here , maybe you come onto the left ear here and we breathe here , we ' ll find a little ease . back and forth . and then let ' s keep the soles of the feet together . just one foot at a time , and then we ' ll switch . right ankle comes to the left knee , breathe through that left leg . imagine your right hip crease ' s pinching a little extra connect here . as we open up through the left hip crease , just like we did before . pulling that left hip crease back here , but keeping cake and accept our breath . okay , then we ' ll gently slowly take it down . rotate the wrists , and then lift the knees . bring the hands back to the waist line . it is\n",
            "\n"
          ],
          "name": "stdout"
        }
      ]
    },
    {
      "metadata": {
        "id": "joW3fLD7HjHP",
        "colab_type": "text"
      },
      "cell_type": "markdown",
      "source": [
        "\n",
        "\n",
        "---\n",
        "\n",
        "**After 10 epochs, the validation score here did not reach as low as the previous models after 5 epochs, indicating the previous architectures to be a better fit. Since the two previous architectures performed similarly, I will continue training the simpler network with 2 layers of 256 units each to see how low the validation loss will go. I will train for more epochs and checkpoint the model weights more frequently in order to select the best performing model.**"
      ]
    },
    {
      "metadata": {
        "id": "vONJYR0wHFoN",
        "colab_type": "code",
        "colab": {}
      },
      "cell_type": "code",
      "source": [
        "train_cfg['num_epochs'] = 15  # Train for 15 epochs this time\n",
        "train_cfg['save_epochs'] = 2  # Save model after every 2nd epoch\n",
        "model_cfg['rnn_size'] = 256\n",
        "model_cfg['rnn_layers'] = 2\n",
        "model_cfg['max_length'] = 20\n",
        "model_cfg['max_words'] = 15000\n",
        "\n",
        "model_save_name = 'fulltext_wordlevel_size%s_layers%s_maxlength%s_maxwords%s_drop%.1f_2' % (model_cfg['rnn_size'],\n",
        "                                                                                          model_cfg['rnn_layers'],\n",
        "                                                                                          model_cfg['max_length'],\n",
        "                                                                                          model_cfg['max_words'],\n",
        "                                                                                          train_cfg['dropout'])\n",
        "\n",
        "model_save_path = google_drive_dir + model_save_name\n"
      ],
      "execution_count": 0,
      "outputs": []
    },
    {
      "metadata": {
        "id": "DZbvHaBtHFvj",
        "colab_type": "code",
        "colab": {
          "base_uri": "https://localhost:8080/",
          "height": 225
        },
        "outputId": "23af60a6-6fb8-42c8-a0c4-0cbf99be8016"
      },
      "cell_type": "code",
      "source": [
        "textgen = textgenrnn(name=model_save_path)\n",
        "\n",
        "train_function = textgen.train_from_file\n",
        "\n",
        "train_function(\n",
        "    file_path=text_file_path,\n",
        "    new_model=True,\n",
        "    num_epochs=train_cfg['num_epochs'],\n",
        "    gen_epochs=train_cfg['gen_epochs'],\n",
        "    save_epochs=train_cfg['save_epochs'],\n",
        "    batch_size=1024,\n",
        "    train_size=train_cfg['train_size'],\n",
        "    dropout=train_cfg['dropout'],\n",
        "    validation=train_cfg['validation'],\n",
        "    is_csv=train_cfg['is_csv'],\n",
        "    rnn_layers=model_cfg['rnn_layers'],\n",
        "    rnn_size=model_cfg['rnn_size'],\n",
        "    rnn_bidirectional=model_cfg['rnn_bidirectional'],\n",
        "    max_length=model_cfg['max_length'],\n",
        "    dim_embeddings=100,\n",
        "    word_level=model_cfg['word_level'])"
      ],
      "execution_count": 0,
      "outputs": [
        {
          "output_type": "stream",
          "text": [
            "625 texts collected.\n",
            "Training new model w/ 2-layer, 256-cell Bidirectional LSTMs\n",
            "Training on 1,941,803 word sequences.\n",
            "Epoch 1/15\n",
            "1896/1896 [==============================] - 754s 397ms/step - loss: 3.8352 - val_loss: 3.2954\n",
            "Epoch 2/15\n",
            "1896/1896 [==============================] - 742s 392ms/step - loss: 3.1749 - val_loss: 3.1348\n",
            "Saving Model Weights — Epoch #2\n",
            "Epoch 3/15\n",
            "1896/1896 [==============================] - 761s 401ms/step - loss: 2.9777 - val_loss: 3.0856\n",
            "Epoch 4/15\n",
            " 500/1896 [======>.......................] - ETA: 7:44 - loss: 2.8067"
          ],
          "name": "stdout"
        }
      ]
    },
    {
      "metadata": {
        "id": "RTa6zf3e_9gV",
        "colab_type": "text"
      },
      "cell_type": "markdown",
      "source": [
        "**Let's generate some text and see some machine-generated yoga routines!**"
      ]
    },
    {
      "metadata": {
        "id": "6qyk0uQDzkoK",
        "colab_type": "code",
        "colab": {
          "base_uri": "https://localhost:8080/",
          "height": 211
        },
        "outputId": "fc93483b-55b9-4ce8-d47d-4ba3905675c7"
      },
      "cell_type": "code",
      "source": [
        "model_cfg['rnn_size'] = 256\n",
        "model_cfg['rnn_layers'] = 2\n",
        "model_cfg['max_length'] = 20\n",
        "model_cfg['max_words'] = 15000\n",
        "\n",
        "model_save_name = 'fulltext_wordlevel_size%s_layers%s_maxlength%s_maxwords%s_drop%.1f' % (model_cfg['rnn_size'],\n",
        "                                                                                          model_cfg['rnn_layers'],\n",
        "                                                                                          model_cfg['max_length'],\n",
        "                                                                                          model_cfg['max_words'],\n",
        "                                                                                          train_cfg['dropout'])\n",
        "\n",
        "# Model will be saved to my google drive account\n",
        "model_save_path = google_drive_dir + model_save_name\n",
        "\n",
        "model_weights = model_save_path + '_weights.hdf5'\n",
        "vocab_path = model_save_path + '_vocab.json'\n",
        "config_path = model_save_path + '_config.json'\n",
        "\n",
        "textgen = textgenrnn(weights_path=model_weights,\n",
        "                     vocab_path=vocab_path,\n",
        "                     config_path=config_path)\n",
        "\n",
        "textgen.generate(n=5, return_as_list=False, prefix=None,\n",
        "                 temperature=[0.6, 0.5, 0.5, 0.2, 0.2],\n",
        "                 max_gen_length=600, top_n=3)"
      ],
      "execution_count": 9,
      "outputs": [
        {
          "output_type": "stream",
          "text": [
            "hey , welcome back to yoga with tim . today we ' re going to learn a core strength , a foot , but it ' s just a little bit of an awareness in your feet , so you find that lift up through the front body , grounding through the back body . and then we ' ll slowly release . come back to all fours . walk the knees underneath the hip points , curl the toes under , and send it up and back , downward facing dog . ( deep breath ) this time , we ' ll drop the right heel , lift the left leg up high . bend the right knee , and then step it up into your lunge . pivot on the back foot . strong warrior i here . inhale , open the chest . exhale , plant the palms . step the right toes back . lower the left knee . inhale , open up through the left arm . exhale , left hand to the heart . inhale , reach up . exhale , twist . inhale , reach the arms up . exhale , bend the knee over the ankle . keep the length in the knee , reach past your fingers . make sure your left knee is over the ankle , and then straighten your leg . so you ' re stretching out your knee , but keep lengthening your spine , and then release your leg , and change sides . change sides . change sides . change sides . change sides . and change sides . change sides . change sides . back up . change sides . back up . change sides . back up . change sides . back up . change sides . back down . change sides . left leg back up . change sides . back up . change sides . back up , change sides . back up . change sides . left leg up . bring your right knee up . change sides . left leg up . and then stretch back to down dog . then step your left foot up to your right thumb . inhale , raise your arms up . exhale , chaturanga . inhale , upward - facing dog . exhale , down dog . step your right foot , warrior i . inhale , come up , warrior two . exhale , chaturanga . inhale , up dog . exhale , down dog . step your left foot , warrior i . inhale , raise your arms up . exhale , chaturanga . inhale , upward - facing dog . exhale , down dog . bend your knees , look between your hands . step or float up to the front of the mat . inhale , ardha , flat back . exhale , fold forward . inhale , flat back . step back into plank pose . lower to chaturanga . inhale , upward facing dog . exhale , down dog . step your right foot , warrior i . inhale , reach up . exhale , chaturanga . inhale , upward facing dog . exhale , down dog . step your right foot , warrior i . inhale , reach up . exhale , chaturanga . inhale , up dog . exhale , down dog . step your left foot , warrior i . inhale , reach up . exhale , chaturanga . inhale , upward - facing dog . exhale , down dog .\n",
            "\n",
            "hey , everyone . welcome to yoga with adriene . i ' m adriene and today we have a sequence for the pranayama series . this is a practice that requires you to help to reset your nerves . so i hope that you ' re feeling like you ' re trying to feel the pain , that you ' re not holding in the or you ' re not alone . it ' s not just about the pose . so you ' re going to be able to go deeper . so you ' re gonna start to get the legs to cross , and you ' ll just fold forward , but you ' re gonna have a blanket or a block or a book . you ' re gonna grab your big toes and just sit up nice and tall . so you ' re gonna be able to bring your hands to your belly and start to feel your back muscles and your middle . so , you ' re just gonna go a little bit deeper , but you can keep it nice and low . and then we ' ll take it to the other side . so this time , we ' ll interlace the fingertips behind the right thigh . so you ' re gonna bring the right heel in , and then you ' re gonna slowly lift the right knee , cross the right ankle over the top of the right thigh . and then slowly , we ' ll release . we ' re gonna switch . left knee comes to the ground , left leg goes out . inhale , lift the left leg up high . exhale , squeeze knee to nose . inhale , kick it out , exhale , knee to nose . inhale , kick it out . exhale , knee to nose . inhale , kick it up . exhale , knee to nose . inhale , kick it up . exhale , nose to knee . inhale , extend . exhale , nose to knee . inhale , extend . exhale , nose to knee . inhale , extend . exhale to twist . inhale , extend . exhale , twist . inhale , reach . exhale , twist . inhale , reach . exhale , lean . inhale , reach . exhale , bend . inhale , reach . exhale , bend . inhale , reach . exhale , bend . inhale , reach . exhale , bend . inhale , reach . exhale , ground and with control , inhale , reach it up . exhale , forward fold . inhale , halfway lift , your version . exhale , soften and bow . inhale , reach for the sky . exhale , hands to heart . ( exhaling ) inhale , reach up . ( inhaling ) exhale , hands to heart . ( exhaling ) inhale , reach it up . ( inhaling ) exhale , hands to heart . ( exhaling ) inhale , reach it up . ( inhaling ) exhale , hands to heart . ( exhaling ) inhale , reach the fingertips up and overhead . exhale , hands to heart . ( exhaling ) inhale , reach up . ( inhaling ) exhale , hands to heart . ( exhaling ) inhale , reach it up . ( inhaling ) exhale , hands to heart . ( exhaling ) inhale , reach it up . ( inhaling ) exhale ,\n",
            "\n",
            "hey everyone and welcome to yoga with adriene . i ' m adriene and this is benji and today we have an awesome practice for you . this is a great practice for anyone who ' s wanting to get into the next level of the posture . so , we ' re going to start with a little bit of a warm up call . so , let ' s take this nice , long , smooth deep breaths , in through the nose , and out through the nose . and then we ' ll slowly release . come to all fours . walk the knees underneath the hip points . walk the knees underneath the hip points , curl the toes under and send it up and back to downward facing dog . peddle it out here . inhale in deeply . follow your breath . and exhale out . ( exhaling ) awesome , slowly release . come back to center . ( deep breath ) plant the palms , step the right toes back . strong plank pose . inhale , shift forward . exhale , belly to cobra or chaturanga to up dog . inhale , pressing up to plank or you can lower down to cobra or upward facing dog . exhale , downward facing dog . inhale , lift the right leg up high . exhale , squeeze knee to nose . inhale , kick it out , three - legged dog . exhale , squeeze and lift . exhale , squeeze and lift . inhale , kick it out . exhale , squeeze and lift . inhale , kick it out . exhale , squeeze and lift . inhale , lower . exhale , lift . inhale , lower . exhale , lift . inhale , lower . exhale , lift . inhale , lower . exhale , lift . inhale , lower . exhale , squeeze and lift . inhale , lower . exhale , lift . inhale , lower . exhale , lift . inhale , lower . exhale , lift . inhale , lower . exhale , lift . inhale , lower . exhale , lift . inhale , lower . exhale , lift . inhale , lower . exhale , lift . inhale , lower . exhale , lift . inhale , lower . exhale , lift . inhale , lower . exhale , lift . inhale lower . exhale , lift . inhale , lower . exhale , lift . inhale , lower . exhale , lift . inhale , lower . exhale , lift . inhale , lower . exhale , lift , and hold . inhale , lower . exhale , lift . inhale , lower . exhale , lift . inhale , lower . exhale , lift . inhale , lower . exhale , lift . inhale , lower . exhale , lift . inhale , lower . exhale , lift . inhale , lower . exhale , squeeze and lift . inhale , lower . exhale , lift . inhale , lower . exhale , lift . inhale , lower . exhale , lift . inhale , lower . exhale , lift . inhale , lower . exhale , lift . inhale , lower . exhale , lift . inhale , lower . exhale , lift . inhale , lower . exhale , lift . inhale , lower . exhale , lift . inhale , lower . exhale , lift . inhale , lower . exhale , squeeze . inhale\n",
            "\n",
            "hello , everyone . welcome to yoga with adriene . i ' m adriene and this is benji and today we have an awesome yoga for the brain . this is where we ' re here to really target the hips . so , this is a great way to go , \" i am not . \" i am strong . \" i am secure . \" i am strong . i am alive . \" i am strong . and then slowly release the hands to the earth . we ' ll bring the hands to the heart and close the eyes . and we bow the head to the heart . close your eyes . and just notice how you feel . and then slowly , we ' ll lift the head up . so we ' re not collapsed here , but really we ' re coming into a little boat variation here , so we ' re actually going to come to the front of the mat , and we ' re going to do a little bit of a twist here so you can use a little bit of a twist to the right . you can also double up on the mat or on the other side . if you want to go deeper , you can take the left hand to the left ankle . you can find a little bind here . maybe you take a second to maybe grab the left ankle . maybe you grab the outer edge of your right foot or your left shin . and then keep it going . inhale , reach the fingertips up and back . big stretch . exhale , hands to heart . ( exhaling ) inhale , reach it up . exhale , forward fold . ( exhaling ) inhale , halfway lift . ( inhaling ) exhale , bow . ( exhaling ) inhale . ( inhaling ) exhale , release . ( exhaling ) one more time , look forward . ( exhaling ) and then slowly lower the knees . send the legs up , and then the heels lifted . press into the tops of the feet , and slowly roll up . nice and slow . on your next breath in , inhale , lift the left leg up high . exhale , squeeze knee to nose . inhale , kick it up . exhale , knee to nose . inhale , three - legged dog . exhale , squeeze it in . inhale , kick it out . exhale , knee to nose . inhale , kick it out . exhale , squeeze and lift . inhale , kick it out . exhale , knee to nose . inhale , kick it out . exhale , step it up into your lunge . pivot on the back foot , strong legs . inhale , rise up . exhale , hands to heart . ( exhaling ) inhale , reach it up . ( inhaling ) exhale , hands to heart . ( exhaling ) inhale , reach it up . ( inhaling ) exhale , hands to heart . ( exhaling ) inhale , reach it up . ( inhaling ) exhale , hands to heart . ( exhaling ) inhale , reach it up . ( inhaling ) exhale , hands to heart . ( exhaling ) inhale , reach it up . ( inhaling ) exhale , forward fold . ( exhaling ) inhale , halfway lift . ( inhaling\n",
            "\n",
            "hey , everyone . welcome to yoga with adriene . i ' m adriene and this is benji and today we have an awesome practice to help you to help you to be able to hold the poses . so if you ' re not ready to do that , you can do that on the website , you can go to your website , and you can click on the paypal link on the banner on the youtube site . also , donate what you can . i appreciate your support . i appreciate your support . i ' m so proud of you . i hope you ' re getting really lost in my body and my heart . so i ' m going to be here for a couple breaths , so , i ' m going to take my right hand , and i ' m gonna inhale , reach the left fingertips all the way up and over . so i ' m not dumping all of this energy , but really engaging the upper body . i ' m going to inhale in , exhale , lift the knees , look forward , and i ' m going to inhale , reach the fingertips up towards the sky , big stretch , big breath . exhale , hands to heart . beautiful . inhale , reach for the sky . exhale , hands to heart . beautiful . inhale , reach it up . exhale , hands to heart . ( exhaling ) inhale , reach up . exhale , fingertips down . inhale , reach up . exhale , toss it back . inhale , reach . exhale , rain it down . nice work . inhale , halfway lift . exhale , bow . step the right foot back . inhale , halfway lift . exhale , soften and bow . inhale , reach for the sky . exhale , hands to heart . ( exhaling ) chin to chest . reach behind . inhale , reach it up . exhale , hands to heart . ( exhaling ) inhale , reach it up . exhale , forward fold . ( exhaling ) inhale , halfway lift . ( inhaling ) exhale , fold . ( exhaling ) inhale , reach for the sky . ( inhaling ) exhale , hands to heart . ( exhaling ) inhale , halfway lift . ( inhaling ) exhale , fold . ( exhaling ) inhale , halfway lift . ( inhaling ) exhale , bow . ( exhaling ) step or hop it back . plank or half plank . beautiful , inhale to look forward , shift forward , and exhale to lower . belly to cobra or chatarunga to upward facing dog . inhale in . exhale , downward facing dog . take a second here to just warm up the body , listen to the sound of your breath . and then we ' ll come back to center . we ' ll come back to center . we ' re gonna bring the feet together . and we ' re gonna take the right foot over to the right side of the mat . and then we ' re gonna slowly shift our weight to the right foot . and you ' re gonna slowly shift your weight to your left foot and slowly bring it all the way up to your lunge . pivot on the back foot . inhale , open the chest , look forward\n",
            "\n"
          ],
          "name": "stdout"
        }
      ]
    },
    {
      "metadata": {
        "id": "EfUecQBS1W4q",
        "colab_type": "text"
      },
      "cell_type": "markdown",
      "source": [
        "**The bias in the training set is clearly identifiable, given that almost all of the examples begin the same way. Roboyogi has clearly understood how to start a yoga practice, however, by welcoming everyone and setting up the intro to the routine. The sentences generated are mostly coherent, and the sequences of moves for the most part could be performed by a human. Unfortunately, the long term structure sort of breaks down, revealing the inability of this method to generate long yoga routines with coherent structure throughout. **"
      ]
    },
    {
      "metadata": {
        "id": "9hf-bP31Wow4",
        "colab_type": "text"
      },
      "cell_type": "markdown",
      "source": [
        "## Conclusions and future work"
      ]
    },
    {
      "metadata": {
        "id": "n8MXCJvFWo3w",
        "colab_type": "text"
      },
      "cell_type": "markdown",
      "source": [
        "Roboyogi is quite limited in its ability to produce yoga routines due to a few reasons:\n",
        "\n",
        "1.  The dataset is currently biased towards whoever is dominating the Youtube yoga market, and therefore the output mostly reflects their style of teaching.\n",
        "2.  I would have liked to spend more time tweaking hyper parameters.\n",
        "3.  The dataset is limited in size.\n",
        "\n",
        "Unfortunately it does not currently seem simple or possible to remove the first limitation. The second limitation can easily be removed by working on this project further.\n",
        "\n",
        "The third limitation presents an interesting problem. The output of Roboyogi is currently not perfect (sometimes incoherent and repeats itself), likely due to not having access to enough data to train on. One way of mitigating this limitation is to adopt the [strategy implemented by a team at OpenAI](https://openai.com/blog/better-language-models/) which produced incredible results: pre-train a model on a massive dataset of general text from the internet, allowing for a larger and more complex architecture which can accommodate longer input sequences. This pre-trained network would have a deeper understanding of language and could produce much longer and more coherent yoga routines. \n",
        "\n",
        "Despite these limitations, Roboyogi can generate pretty creative output, and certainly it can generate novel and coherent sequences of yoga poses. This project was a lot of fun and I consider it a complete success given the constraints!"
      ]
    },
    {
      "metadata": {
        "id": "2E_rv0S2yzUv",
        "colab_type": "code",
        "colab": {}
      },
      "cell_type": "code",
      "source": [
        ""
      ],
      "execution_count": 0,
      "outputs": []
    }
  ]
}